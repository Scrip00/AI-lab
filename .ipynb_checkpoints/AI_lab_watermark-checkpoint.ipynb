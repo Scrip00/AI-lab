{
 "cells": [
  {
   "cell_type": "code",
   "execution_count": 61,
   "id": "88060948",
   "metadata": {},
   "outputs": [
    {
     "name": "stdout",
     "output_type": "stream",
     "text": [
      "2.6.0\n"
     ]
    }
   ],
   "source": [
    "from PIL import Image, ImageFont, ImageDraw \n",
    "import glob\n",
    "import string\n",
    "import random\n",
    "import os\n",
    "import shutil\n",
    "import math\n",
    "import tensorflow as tf\n",
    "print(tf.__version__)\n",
    "from tensorflow import keras\n",
    "from tensorflow.keras.layers import MaxPooling2D, BatchNormalization, Conv2D, Dense, Dropout, Flatten\n",
    "from tensorflow.keras.optimizers import Adam\n",
    "from tensorflow.keras.callbacks import EarlyStopping\n",
    "from tensorflow.keras.layers.experimental.preprocessing import RandomFlip, RandomRotation, Rescaling\n",
    "from tensorflow.keras import Input \n",
    "from tensorflow.keras.losses import BinaryCrossentropy\n",
    "from sklearn.metrics import confusion_matrix\n",
    "from sklearn.model_selection import train_test_split\n",
    "import seaborn as sns\n",
    "import numpy as np \n",
    "import matplotlib.pyplot as plt \n",
    "import cv2"
   ]
  },
  {
   "cell_type": "code",
   "execution_count": 62,
   "id": "89c9dbae",
   "metadata": {},
   "outputs": [],
   "source": [
    "unmarked_path = \"C:/Users/Scrip0/Desktop/Training/Unmarked\" # Path to marked images\n",
    "marked_path = os.path.dirname(unmarked_path) + \"/Marked\"\n",
    "unmarked_imgs = []\n",
    "marked_imgs = []\n",
    "ext = [\"jpg\",\"png\", \"jpeg\"];\n",
    "for file in (file for file in (glob.glob(unmarked_path + '/*.%s' % e) for e in ext) if file != []):\n",
    "    for image in file:\n",
    "        unmarked_imgs.append(image)"
   ]
  },
  {
   "cell_type": "code",
   "execution_count": 63,
   "id": "da052b6b",
   "metadata": {},
   "outputs": [],
   "source": [
    "def generate_word():\n",
    "    letters = string.ascii_letters + string.digits + string.punctuation;\n",
    "    return \"\".join(random.choice(letters) for i in range(random.randint(5, 20)))"
   ]
  },
  {
   "cell_type": "code",
   "execution_count": 64,
   "id": "379a827f",
   "metadata": {},
   "outputs": [],
   "source": [
    "class point:\n",
    "    def __init__(self, x, y):\n",
    "        self.x = x\n",
    "        self.y = y\n",
    "    \n",
    "def generate_points(width, height, angle, side):\n",
    "    points = []\n",
    "    num = random.randint(2, 5)\n",
    "    half_width = int(width / 2)\n",
    "    gap = int(height / (num - 1)) \n",
    "    if (side == \"right\"): gap = int(gap * 1.5)\n",
    "    extra = random.randint(0, gap)\n",
    "    for i in range(0, num):\n",
    "        points.append(point(half_width, gap * i - extra))\n",
    "        \n",
    "    if (side == \"right\"):\n",
    "        more = int(((-half_width * math.tan(math.radians(angle))) - extra) / gap)  + 1\n",
    "    else:\n",
    "        more = int(((half_width * math.tan(math.radians(angle))) - extra) / gap)  + 1\n",
    "    for i in range(-more - 1, 0):\n",
    "        points.insert(0, point(half_width, gap * i - extra))\n",
    "    for i in range(num, num + more):\n",
    "        points.append(point(half_width, gap * i - extra))\n",
    "    return points\n",
    "\n",
    "def draw_lines_left(image, angle, watermark, line, color, opacity, size):\n",
    "    points = generate_points(image.size[0], image.size[1], angle, \"left\")\n",
    "    half_width = int(image.width / 2)\n",
    "    tan = math.tan(math.radians(angle))\n",
    "    for point in points:\n",
    "        x = 0\n",
    "        y = int(half_width * tan + point.y)\n",
    "        while (x < image.width):\n",
    "            image.paste(watermark, (x, y), watermark)\n",
    "            line = Image.new('RGBA', image.size, (255,255,255,0))\n",
    "            draw = ImageDraw.Draw(line)\n",
    "            line_width = size * 3\n",
    "            draw.line((x + watermark.width, y, x + watermark.width + line_width, y - line_width * tan), fill=(color[0], color[1], color[2], opacity), width=int(size / 7))\n",
    "            image.alpha_composite(line)\n",
    "            x += watermark.width + line_width\n",
    "            y -= int(line_width * tan) + watermark.height\n",
    "            \n",
    "def draw_lines_right(image, angle, watermark, line, color, opacity, size):\n",
    "    points = generate_points(image.size[0], image.size[1], angle, \"right\")\n",
    "    half_width = int(image.width / 2)\n",
    "    tan = math.tan(math.radians(angle))\n",
    "    for point in points:\n",
    "        x = image.width - watermark.width\n",
    "        y = int(-half_width * tan + point.y)\n",
    "        while (x > -watermark.width):\n",
    "            image.paste(watermark, (x, y), watermark)\n",
    "            line = Image.new('RGBA', image.size, (255,255,255,0))\n",
    "            draw = ImageDraw.Draw(line)\n",
    "            line_width = size * 3\n",
    "            draw.line((x, y, x - line_width, y + line_width * tan), fill=(color[0], color[1], color[2], opacity), width=int(size / 7))\n",
    "            image.alpha_composite(line)\n",
    "            x -= watermark.width + line_width\n",
    "            y -= -int(line_width * tan) + watermark.height"
   ]
  },
  {
   "cell_type": "code",
   "execution_count": 65,
   "id": "f8e39532",
   "metadata": {},
   "outputs": [],
   "source": [
    "if (os.path.isdir(marked_path)): shutil.rmtree(marked_path, ignore_errors=True)\n",
    "os.mkdir(marked_path)\n",
    "for img in unmarked_imgs:\n",
    "    angle = random.randint(30, 60)\n",
    "    color = random.randint(0, 256), random.randint(0, 256), random.randint(0, 256)\n",
    "    opacity = random.randint(40, 250)\n",
    "    image = Image.open(img)\n",
    "    image = image.convert('RGBA')\n",
    "    text = generate_word()\n",
    "    size = random.randint(10, 30)\n",
    "    font = ImageFont.truetype(\"impact.ttf\", size)\n",
    "    \n",
    "    watermark = Image.new('RGBA', font.getsize(text), (255,255,255,0))\n",
    "    d = ImageDraw.Draw(watermark)    \n",
    "    d.text((0, 0), text, fill=(color[0], color[1], color[2], opacity), font=font)\n",
    "    \n",
    "    watermark = watermark.rotate(angle, expand = 1)\n",
    "    draw_lines_left(image, angle, watermark, image, color, opacity, size)\n",
    "    \n",
    "    watermark = watermark.rotate(-90, expand = 1)\n",
    "    draw_lines_right(image, -90 + angle, watermark, image, color, opacity, size)\n",
    "    path = marked_path + \"/\" + os.path.splitext(os.path.basename(img))[0] + \".png\"\n",
    "    image.save(path)\n",
    "    \n",
    "    marked_imgs.append(path)"
   ]
  },
  {
   "cell_type": "code",
   "execution_count": 66,
   "id": "4d23e1ea",
   "metadata": {},
   "outputs": [],
   "source": [
    "# plt.imshow(np.array(marked_imgs[0]))\n",
    "# plt.show()"
   ]
  },
  {
   "cell_type": "code",
   "execution_count": 67,
   "id": "64dbafc4",
   "metadata": {},
   "outputs": [],
   "source": [
    "width = 200\n",
    "height = 200\n",
    "def createPixelArr(files):\n",
    "    data = []\n",
    "    for image in files:# take each image and use imread to get the pixel values in a matrix \n",
    "            img_arr = cv2.imread(image, cv2.IMREAD_COLOR)\n",
    "            resized_arr = cv2.resize(img_arr, (width, height)) # rescale the image so every image is of the same dimension\n",
    "            data.append(resized_arr) # add the matrix of pixel values \n",
    "    return np.array(data)"
   ]
  },
  {
   "cell_type": "code",
   "execution_count": 68,
   "id": "83f2996d",
   "metadata": {},
   "outputs": [],
   "source": [
    "train_marked = createPixelArr(marked_imgs)\n",
    "train_unmarked = createPixelArr(unmarked_imgs)\n",
    "unmarked_imgs = []\n",
    "marked_imgs = []"
   ]
  },
  {
   "cell_type": "code",
   "execution_count": 104,
   "id": "7daf19d9",
   "metadata": {},
   "outputs": [],
   "source": [
    "x_train, x_test, y_train, y_test = train_test_split(train_marked, train_unmarked, train_size=0.8, random_state=1) \n",
    "train_marked = []\n",
    "train_unmarked = []"
   ]
  },
  {
   "cell_type": "code",
   "execution_count": 107,
   "id": "e9b071a4",
   "metadata": {},
   "outputs": [],
   "source": [
    "def scale(data):\n",
    "    return (data - 127.5) / 127.5\n",
    "x_train = scale(x_train)\n",
    "x_test = scale(x_test)\n",
    "y_train = scale(y_train)\n",
    "y_test = scale(y_test)"
   ]
  },
  {
   "cell_type": "code",
   "execution_count": 108,
   "id": "689490c9",
   "metadata": {},
   "outputs": [
    {
     "name": "stdout",
     "output_type": "stream",
     "text": [
      "(199, 200, 200, 3)\n",
      "(199, 200, 200, 3)\n"
     ]
    }
   ],
   "source": [
    "print(x_train.shape)\n",
    "print(y_train.shape)"
   ]
  },
  {
   "cell_type": "code",
   "execution_count": 109,
   "id": "501cbdc7",
   "metadata": {},
   "outputs": [],
   "source": [
    "model = keras.Sequential()\n",
    "\n",
    "model.add(keras.Input(shape=(width, height, 3))) #3 if RGB, 1 if GrayScale\n",
    "\n",
    "model.add(tf.keras.layers.Conv2D(64, 3, activation=\"relu\", padding=\"same\"))\n",
    "model.add(tf.keras.layers.MaxPooling2D(2))\n",
    "\n",
    "model.add(tf.keras.layers.Conv2D(32, 3, activation=\"relu\", padding=\"same\"))\n",
    "model.add(tf.keras.layers.MaxPooling2D(2))\n",
    "\n",
    "model.add(tf.keras.layers.Conv2D(16, 3, activation=\"relu\", padding=\"same\"))\n",
    "model.add(tf.keras.layers.MaxPooling2D(2))\n",
    "\n",
    "model.add(tf.keras.layers.Conv2D(16, 3, activation=\"relu\", padding=\"same\"))\n",
    "model.add(tf.keras.layers.UpSampling2D(2))\n",
    "\n",
    "model.add(tf.keras.layers.Conv2D(32, 3, activation=\"relu\", padding=\"same\"))\n",
    "model.add(tf.keras.layers.UpSampling2D(2))\n",
    "\n",
    "model.add(tf.keras.layers.Conv2D(64, 3, activation=\"relu\", padding=\"same\"))\n",
    "model.add(tf.keras.layers.UpSampling2D(2))\n",
    "\n",
    "model.add(tf.keras.layers.Conv2D(3, 3, activation=\"softmax\", padding=\"same\"))"
   ]
  },
  {
   "cell_type": "code",
   "execution_count": 110,
   "id": "9d2eef6a",
   "metadata": {},
   "outputs": [
    {
     "name": "stdout",
     "output_type": "stream",
     "text": [
      "Model: \"sequential_15\"\n",
      "_________________________________________________________________\n",
      "Layer (type)                 Output Shape              Param #   \n",
      "=================================================================\n",
      "conv2d_98 (Conv2D)           (None, 200, 200, 64)      1792      \n",
      "_________________________________________________________________\n",
      "max_pooling2d_60 (MaxPooling (None, 100, 100, 64)      0         \n",
      "_________________________________________________________________\n",
      "conv2d_99 (Conv2D)           (None, 100, 100, 32)      18464     \n",
      "_________________________________________________________________\n",
      "max_pooling2d_61 (MaxPooling (None, 50, 50, 32)        0         \n",
      "_________________________________________________________________\n",
      "conv2d_100 (Conv2D)          (None, 50, 50, 16)        4624      \n",
      "_________________________________________________________________\n",
      "max_pooling2d_62 (MaxPooling (None, 25, 25, 16)        0         \n",
      "_________________________________________________________________\n",
      "conv2d_101 (Conv2D)          (None, 25, 25, 16)        2320      \n",
      "_________________________________________________________________\n",
      "up_sampling2d_24 (UpSampling (None, 50, 50, 16)        0         \n",
      "_________________________________________________________________\n",
      "conv2d_102 (Conv2D)          (None, 50, 50, 32)        4640      \n",
      "_________________________________________________________________\n",
      "up_sampling2d_25 (UpSampling (None, 100, 100, 32)      0         \n",
      "_________________________________________________________________\n",
      "conv2d_103 (Conv2D)          (None, 100, 100, 64)      18496     \n",
      "_________________________________________________________________\n",
      "up_sampling2d_26 (UpSampling (None, 200, 200, 64)      0         \n",
      "_________________________________________________________________\n",
      "conv2d_104 (Conv2D)          (None, 200, 200, 3)       1731      \n",
      "=================================================================\n",
      "Total params: 52,067\n",
      "Trainable params: 52,067\n",
      "Non-trainable params: 0\n",
      "_________________________________________________________________\n"
     ]
    }
   ],
   "source": [
    "model.summary()"
   ]
  },
  {
   "cell_type": "code",
   "execution_count": 117,
   "id": "2710623b",
   "metadata": {},
   "outputs": [],
   "source": [
    "model.compile(optimizer=Adam(learning_rate=0.0005), loss=\"MeanSquaredError\")"
   ]
  },
  {
   "cell_type": "code",
   "execution_count": 118,
   "id": "767e6653",
   "metadata": {},
   "outputs": [
    {
     "name": "stdout",
     "output_type": "stream",
     "text": [
      "Epoch 1/100\n",
      "10/10 [==============================] - 22s 2s/step - loss: 1.7803\n",
      "Epoch 2/100\n",
      " 7/10 [====================>.........] - ETA: 6s - loss: 1.7803"
     ]
    },
    {
     "ename": "KeyboardInterrupt",
     "evalue": "",
     "output_type": "error",
     "traceback": [
      "\u001b[1;31m---------------------------------------------------------------------------\u001b[0m",
      "\u001b[1;31mKeyboardInterrupt\u001b[0m                         Traceback (most recent call last)",
      "\u001b[1;32m<ipython-input-118-9770aa72ecf7>\u001b[0m in \u001b[0;36m<module>\u001b[1;34m\u001b[0m\n\u001b[0;32m      1\u001b[0m \u001b[0mearly_stop\u001b[0m \u001b[1;33m=\u001b[0m \u001b[0mEarlyStopping\u001b[0m\u001b[1;33m(\u001b[0m\u001b[0mpatience\u001b[0m\u001b[1;33m=\u001b[0m\u001b[1;36m5\u001b[0m\u001b[1;33m,\u001b[0m \u001b[0mmonitor\u001b[0m\u001b[1;33m=\u001b[0m\u001b[1;34m'loss'\u001b[0m\u001b[1;33m,\u001b[0m \u001b[0mrestore_best_weights\u001b[0m\u001b[1;33m=\u001b[0m\u001b[1;32mTrue\u001b[0m\u001b[1;33m)\u001b[0m\u001b[1;33m\u001b[0m\u001b[1;33m\u001b[0m\u001b[0m\n\u001b[1;32m----> 2\u001b[1;33m \u001b[0mhistory\u001b[0m \u001b[1;33m=\u001b[0m \u001b[0mmodel\u001b[0m\u001b[1;33m.\u001b[0m\u001b[0mfit\u001b[0m\u001b[1;33m(\u001b[0m\u001b[0mx_train\u001b[0m\u001b[1;33m,\u001b[0m \u001b[0my_train\u001b[0m\u001b[1;33m,\u001b[0m \u001b[0mbatch_size\u001b[0m\u001b[1;33m=\u001b[0m\u001b[1;36m20\u001b[0m\u001b[1;33m,\u001b[0m \u001b[0mepochs\u001b[0m\u001b[1;33m=\u001b[0m\u001b[1;36m100\u001b[0m\u001b[1;33m,\u001b[0m \u001b[0mcallbacks\u001b[0m\u001b[1;33m=\u001b[0m\u001b[1;33m[\u001b[0m\u001b[0mearly_stop\u001b[0m\u001b[1;33m]\u001b[0m\u001b[1;33m)\u001b[0m\u001b[1;33m\u001b[0m\u001b[1;33m\u001b[0m\u001b[0m\n\u001b[0m",
      "\u001b[1;32m~\\anaconda3\\lib\\site-packages\\keras\\engine\\training.py\u001b[0m in \u001b[0;36mfit\u001b[1;34m(self, x, y, batch_size, epochs, verbose, callbacks, validation_split, validation_data, shuffle, class_weight, sample_weight, initial_epoch, steps_per_epoch, validation_steps, validation_batch_size, validation_freq, max_queue_size, workers, use_multiprocessing)\u001b[0m\n\u001b[0;32m   1182\u001b[0m                 _r=1):\n\u001b[0;32m   1183\u001b[0m               \u001b[0mcallbacks\u001b[0m\u001b[1;33m.\u001b[0m\u001b[0mon_train_batch_begin\u001b[0m\u001b[1;33m(\u001b[0m\u001b[0mstep\u001b[0m\u001b[1;33m)\u001b[0m\u001b[1;33m\u001b[0m\u001b[1;33m\u001b[0m\u001b[0m\n\u001b[1;32m-> 1184\u001b[1;33m               \u001b[0mtmp_logs\u001b[0m \u001b[1;33m=\u001b[0m \u001b[0mself\u001b[0m\u001b[1;33m.\u001b[0m\u001b[0mtrain_function\u001b[0m\u001b[1;33m(\u001b[0m\u001b[0miterator\u001b[0m\u001b[1;33m)\u001b[0m\u001b[1;33m\u001b[0m\u001b[1;33m\u001b[0m\u001b[0m\n\u001b[0m\u001b[0;32m   1185\u001b[0m               \u001b[1;32mif\u001b[0m \u001b[0mdata_handler\u001b[0m\u001b[1;33m.\u001b[0m\u001b[0mshould_sync\u001b[0m\u001b[1;33m:\u001b[0m\u001b[1;33m\u001b[0m\u001b[1;33m\u001b[0m\u001b[0m\n\u001b[0;32m   1186\u001b[0m                 \u001b[0mcontext\u001b[0m\u001b[1;33m.\u001b[0m\u001b[0masync_wait\u001b[0m\u001b[1;33m(\u001b[0m\u001b[1;33m)\u001b[0m\u001b[1;33m\u001b[0m\u001b[1;33m\u001b[0m\u001b[0m\n",
      "\u001b[1;32m~\\AppData\\Roaming\\Python\\Python38\\site-packages\\tensorflow\\python\\eager\\def_function.py\u001b[0m in \u001b[0;36m__call__\u001b[1;34m(self, *args, **kwds)\u001b[0m\n\u001b[0;32m    883\u001b[0m \u001b[1;33m\u001b[0m\u001b[0m\n\u001b[0;32m    884\u001b[0m       \u001b[1;32mwith\u001b[0m \u001b[0mOptionalXlaContext\u001b[0m\u001b[1;33m(\u001b[0m\u001b[0mself\u001b[0m\u001b[1;33m.\u001b[0m\u001b[0m_jit_compile\u001b[0m\u001b[1;33m)\u001b[0m\u001b[1;33m:\u001b[0m\u001b[1;33m\u001b[0m\u001b[1;33m\u001b[0m\u001b[0m\n\u001b[1;32m--> 885\u001b[1;33m         \u001b[0mresult\u001b[0m \u001b[1;33m=\u001b[0m \u001b[0mself\u001b[0m\u001b[1;33m.\u001b[0m\u001b[0m_call\u001b[0m\u001b[1;33m(\u001b[0m\u001b[1;33m*\u001b[0m\u001b[0margs\u001b[0m\u001b[1;33m,\u001b[0m \u001b[1;33m**\u001b[0m\u001b[0mkwds\u001b[0m\u001b[1;33m)\u001b[0m\u001b[1;33m\u001b[0m\u001b[1;33m\u001b[0m\u001b[0m\n\u001b[0m\u001b[0;32m    886\u001b[0m \u001b[1;33m\u001b[0m\u001b[0m\n\u001b[0;32m    887\u001b[0m       \u001b[0mnew_tracing_count\u001b[0m \u001b[1;33m=\u001b[0m \u001b[0mself\u001b[0m\u001b[1;33m.\u001b[0m\u001b[0mexperimental_get_tracing_count\u001b[0m\u001b[1;33m(\u001b[0m\u001b[1;33m)\u001b[0m\u001b[1;33m\u001b[0m\u001b[1;33m\u001b[0m\u001b[0m\n",
      "\u001b[1;32m~\\AppData\\Roaming\\Python\\Python38\\site-packages\\tensorflow\\python\\eager\\def_function.py\u001b[0m in \u001b[0;36m_call\u001b[1;34m(self, *args, **kwds)\u001b[0m\n\u001b[0;32m    915\u001b[0m       \u001b[1;31m# In this case we have created variables on the first call, so we run the\u001b[0m\u001b[1;33m\u001b[0m\u001b[1;33m\u001b[0m\u001b[1;33m\u001b[0m\u001b[0m\n\u001b[0;32m    916\u001b[0m       \u001b[1;31m# defunned version which is guaranteed to never create variables.\u001b[0m\u001b[1;33m\u001b[0m\u001b[1;33m\u001b[0m\u001b[1;33m\u001b[0m\u001b[0m\n\u001b[1;32m--> 917\u001b[1;33m       \u001b[1;32mreturn\u001b[0m \u001b[0mself\u001b[0m\u001b[1;33m.\u001b[0m\u001b[0m_stateless_fn\u001b[0m\u001b[1;33m(\u001b[0m\u001b[1;33m*\u001b[0m\u001b[0margs\u001b[0m\u001b[1;33m,\u001b[0m \u001b[1;33m**\u001b[0m\u001b[0mkwds\u001b[0m\u001b[1;33m)\u001b[0m  \u001b[1;31m# pylint: disable=not-callable\u001b[0m\u001b[1;33m\u001b[0m\u001b[1;33m\u001b[0m\u001b[0m\n\u001b[0m\u001b[0;32m    918\u001b[0m     \u001b[1;32melif\u001b[0m \u001b[0mself\u001b[0m\u001b[1;33m.\u001b[0m\u001b[0m_stateful_fn\u001b[0m \u001b[1;32mis\u001b[0m \u001b[1;32mnot\u001b[0m \u001b[1;32mNone\u001b[0m\u001b[1;33m:\u001b[0m\u001b[1;33m\u001b[0m\u001b[1;33m\u001b[0m\u001b[0m\n\u001b[0;32m    919\u001b[0m       \u001b[1;31m# Release the lock early so that multiple threads can perform the call\u001b[0m\u001b[1;33m\u001b[0m\u001b[1;33m\u001b[0m\u001b[1;33m\u001b[0m\u001b[0m\n",
      "\u001b[1;32m~\\AppData\\Roaming\\Python\\Python38\\site-packages\\tensorflow\\python\\eager\\function.py\u001b[0m in \u001b[0;36m__call__\u001b[1;34m(self, *args, **kwargs)\u001b[0m\n\u001b[0;32m   3037\u001b[0m       (graph_function,\n\u001b[0;32m   3038\u001b[0m        filtered_flat_args) = self._maybe_define_function(args, kwargs)\n\u001b[1;32m-> 3039\u001b[1;33m     return graph_function._call_flat(\n\u001b[0m\u001b[0;32m   3040\u001b[0m         filtered_flat_args, captured_inputs=graph_function.captured_inputs)  # pylint: disable=protected-access\n\u001b[0;32m   3041\u001b[0m \u001b[1;33m\u001b[0m\u001b[0m\n",
      "\u001b[1;32m~\\AppData\\Roaming\\Python\\Python38\\site-packages\\tensorflow\\python\\eager\\function.py\u001b[0m in \u001b[0;36m_call_flat\u001b[1;34m(self, args, captured_inputs, cancellation_manager)\u001b[0m\n\u001b[0;32m   1961\u001b[0m         and executing_eagerly):\n\u001b[0;32m   1962\u001b[0m       \u001b[1;31m# No tape is watching; skip to running the function.\u001b[0m\u001b[1;33m\u001b[0m\u001b[1;33m\u001b[0m\u001b[1;33m\u001b[0m\u001b[0m\n\u001b[1;32m-> 1963\u001b[1;33m       return self._build_call_outputs(self._inference_function.call(\n\u001b[0m\u001b[0;32m   1964\u001b[0m           ctx, args, cancellation_manager=cancellation_manager))\n\u001b[0;32m   1965\u001b[0m     forward_backward = self._select_forward_and_backward_functions(\n",
      "\u001b[1;32m~\\AppData\\Roaming\\Python\\Python38\\site-packages\\tensorflow\\python\\eager\\function.py\u001b[0m in \u001b[0;36mcall\u001b[1;34m(self, ctx, args, cancellation_manager)\u001b[0m\n\u001b[0;32m    589\u001b[0m       \u001b[1;32mwith\u001b[0m \u001b[0m_InterpolateFunctionError\u001b[0m\u001b[1;33m(\u001b[0m\u001b[0mself\u001b[0m\u001b[1;33m)\u001b[0m\u001b[1;33m:\u001b[0m\u001b[1;33m\u001b[0m\u001b[1;33m\u001b[0m\u001b[0m\n\u001b[0;32m    590\u001b[0m         \u001b[1;32mif\u001b[0m \u001b[0mcancellation_manager\u001b[0m \u001b[1;32mis\u001b[0m \u001b[1;32mNone\u001b[0m\u001b[1;33m:\u001b[0m\u001b[1;33m\u001b[0m\u001b[1;33m\u001b[0m\u001b[0m\n\u001b[1;32m--> 591\u001b[1;33m           outputs = execute.execute(\n\u001b[0m\u001b[0;32m    592\u001b[0m               \u001b[0mstr\u001b[0m\u001b[1;33m(\u001b[0m\u001b[0mself\u001b[0m\u001b[1;33m.\u001b[0m\u001b[0msignature\u001b[0m\u001b[1;33m.\u001b[0m\u001b[0mname\u001b[0m\u001b[1;33m)\u001b[0m\u001b[1;33m,\u001b[0m\u001b[1;33m\u001b[0m\u001b[1;33m\u001b[0m\u001b[0m\n\u001b[0;32m    593\u001b[0m               \u001b[0mnum_outputs\u001b[0m\u001b[1;33m=\u001b[0m\u001b[0mself\u001b[0m\u001b[1;33m.\u001b[0m\u001b[0m_num_outputs\u001b[0m\u001b[1;33m,\u001b[0m\u001b[1;33m\u001b[0m\u001b[1;33m\u001b[0m\u001b[0m\n",
      "\u001b[1;32m~\\AppData\\Roaming\\Python\\Python38\\site-packages\\tensorflow\\python\\eager\\execute.py\u001b[0m in \u001b[0;36mquick_execute\u001b[1;34m(op_name, num_outputs, inputs, attrs, ctx, name)\u001b[0m\n\u001b[0;32m     57\u001b[0m   \u001b[1;32mtry\u001b[0m\u001b[1;33m:\u001b[0m\u001b[1;33m\u001b[0m\u001b[1;33m\u001b[0m\u001b[0m\n\u001b[0;32m     58\u001b[0m     \u001b[0mctx\u001b[0m\u001b[1;33m.\u001b[0m\u001b[0mensure_initialized\u001b[0m\u001b[1;33m(\u001b[0m\u001b[1;33m)\u001b[0m\u001b[1;33m\u001b[0m\u001b[1;33m\u001b[0m\u001b[0m\n\u001b[1;32m---> 59\u001b[1;33m     tensors = pywrap_tfe.TFE_Py_Execute(ctx._handle, device_name, op_name,\n\u001b[0m\u001b[0;32m     60\u001b[0m                                         inputs, attrs, num_outputs)\n\u001b[0;32m     61\u001b[0m   \u001b[1;32mexcept\u001b[0m \u001b[0mcore\u001b[0m\u001b[1;33m.\u001b[0m\u001b[0m_NotOkStatusException\u001b[0m \u001b[1;32mas\u001b[0m \u001b[0me\u001b[0m\u001b[1;33m:\u001b[0m\u001b[1;33m\u001b[0m\u001b[1;33m\u001b[0m\u001b[0m\n",
      "\u001b[1;31mKeyboardInterrupt\u001b[0m: "
     ]
    }
   ],
   "source": [
    "early_stop = EarlyStopping(patience=5, monitor='loss', restore_best_weights=True)\n",
    "history = model.fit(x_train, y_train, batch_size=20, epochs=100, callbacks=[early_stop])"
   ]
  },
  {
   "cell_type": "code",
   "execution_count": null,
   "id": "16cc4a2b",
   "metadata": {},
   "outputs": [],
   "source": [
    "model.save('Watermark.h5')"
   ]
  },
  {
   "cell_type": "code",
   "execution_count": null,
   "id": "0ae1754b",
   "metadata": {},
   "outputs": [],
   "source": []
  },
  {
   "cell_type": "code",
   "execution_count": null,
   "id": "fe761a46",
   "metadata": {},
   "outputs": [],
   "source": []
  }
 ],
 "metadata": {
  "kernelspec": {
   "display_name": "Python 3",
   "language": "python",
   "name": "python3"
  },
  "language_info": {
   "codemirror_mode": {
    "name": "ipython",
    "version": 3
   },
   "file_extension": ".py",
   "mimetype": "text/x-python",
   "name": "python",
   "nbconvert_exporter": "python",
   "pygments_lexer": "ipython3",
   "version": "3.8.8"
  }
 },
 "nbformat": 4,
 "nbformat_minor": 5
}
