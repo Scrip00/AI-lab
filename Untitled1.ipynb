{
 "cells": [
  {
   "cell_type": "code",
   "execution_count": null,
   "id": "3eb0fab2",
   "metadata": {},
   "outputs": [],
   "source": [
    "print(\"lol\")"
   ]
  }
 ],
 "metadata": {
  "kernelspec": {
   "display_name": "gpu2",
   "language": "python",
   "name": "gpu2"
  }
 },
 "nbformat": 4,
 "nbformat_minor": 5
}
